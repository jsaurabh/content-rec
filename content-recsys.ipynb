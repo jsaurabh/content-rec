{
 "cells": [
  {
   "cell_type": "code",
   "execution_count": null,
   "metadata": {},
   "outputs": [],
   "source": [
    "#imports\n",
    "from pathlib import Path\n",
    "\n",
    "import numpy as np\n",
    "import pandas as pd\n",
    "from sklearn.feature_extraction.text import TfidfVectorizer, CountVectorizer\n",
    "from sklearn.metrics.pairwise import cosine_similarity"
   ]
  },
  {
   "cell_type": "code",
   "execution_count": null,
   "metadata": {},
   "outputs": [],
   "source": [
    "import spacy\n",
    "!python -m spacy download en_core_web_lg"
   ]
  },
  {
   "cell_type": "code",
   "execution_count": 3,
   "metadata": {},
   "outputs": [],
   "source": [
    "pd.set_option('display.max_colwidth', 100)"
   ]
  },
  {
   "cell_type": "code",
   "execution_count": 4,
   "metadata": {},
   "outputs": [],
   "source": [
    "datapath = Path.cwd()/'data'\n",
    "dataset = datapath/'dataset.csv'"
   ]
  },
  {
   "cell_type": "code",
   "execution_count": 5,
   "metadata": {},
   "outputs": [],
   "source": [
    "df = pd.read_csv(dataset)"
   ]
  },
  {
   "cell_type": "code",
   "execution_count": 6,
   "metadata": {
    "scrolled": true
   },
   "outputs": [
    {
     "data": {
      "text/html": [
       "<div>\n",
       "<style scoped>\n",
       "    .dataframe tbody tr th:only-of-type {\n",
       "        vertical-align: middle;\n",
       "    }\n",
       "\n",
       "    .dataframe tbody tr th {\n",
       "        vertical-align: top;\n",
       "    }\n",
       "\n",
       "    .dataframe thead th {\n",
       "        text-align: right;\n",
       "    }\n",
       "</style>\n",
       "<table border=\"1\" class=\"dataframe\">\n",
       "  <thead>\n",
       "    <tr style=\"text-align: right;\">\n",
       "      <th></th>\n",
       "      <th>title</th>\n",
       "      <th>short_description</th>\n",
       "      <th>long_description</th>\n",
       "      <th>provider</th>\n",
       "      <th>url</th>\n",
       "      <th>time</th>\n",
       "      <th>language</th>\n",
       "      <th>paths</th>\n",
       "      <th>prerequisites</th>\n",
       "      <th>medium</th>\n",
       "      <th>type</th>\n",
       "    </tr>\n",
       "  </thead>\n",
       "  <tbody>\n",
       "    <tr>\n",
       "      <th>count</th>\n",
       "      <td>18</td>\n",
       "      <td>18</td>\n",
       "      <td>18</td>\n",
       "      <td>18</td>\n",
       "      <td>18</td>\n",
       "      <td>18</td>\n",
       "      <td>18</td>\n",
       "      <td>17</td>\n",
       "      <td>16</td>\n",
       "      <td>18</td>\n",
       "      <td>18</td>\n",
       "    </tr>\n",
       "    <tr>\n",
       "      <th>unique</th>\n",
       "      <td>18</td>\n",
       "      <td>18</td>\n",
       "      <td>18</td>\n",
       "      <td>1</td>\n",
       "      <td>18</td>\n",
       "      <td>2</td>\n",
       "      <td>1</td>\n",
       "      <td>14</td>\n",
       "      <td>13</td>\n",
       "      <td>1</td>\n",
       "      <td>1</td>\n",
       "    </tr>\n",
       "    <tr>\n",
       "      <th>top</th>\n",
       "      <td>Machine Learning for Time Series Data in Python</td>\n",
       "      <td>Learn to create deep learning models with the PyTorch library.</td>\n",
       "      <td>Time series data is ubiquitous. Whether it be stock market fluctuations, sensor data recording c...</td>\n",
       "      <td>DataCamp</td>\n",
       "      <td>https://www.datacamp.com/courses/machine-learning-for-business</td>\n",
       "      <td>4 hours</td>\n",
       "      <td>Python</td>\n",
       "      <td>Data Skills for Business</td>\n",
       "      <td>Supervised Learning with scikit-learn</td>\n",
       "      <td>video</td>\n",
       "      <td>course</td>\n",
       "    </tr>\n",
       "    <tr>\n",
       "      <th>freq</th>\n",
       "      <td>1</td>\n",
       "      <td>1</td>\n",
       "      <td>1</td>\n",
       "      <td>18</td>\n",
       "      <td>1</td>\n",
       "      <td>16</td>\n",
       "      <td>18</td>\n",
       "      <td>2</td>\n",
       "      <td>3</td>\n",
       "      <td>18</td>\n",
       "      <td>18</td>\n",
       "    </tr>\n",
       "  </tbody>\n",
       "</table>\n",
       "</div>"
      ],
      "text/plain": [
       "                                                  title  \\\n",
       "count                                                18   \n",
       "unique                                               18   \n",
       "top     Machine Learning for Time Series Data in Python   \n",
       "freq                                                  1   \n",
       "\n",
       "                                                     short_description  \\\n",
       "count                                                               18   \n",
       "unique                                                              18   \n",
       "top     Learn to create deep learning models with the PyTorch library.   \n",
       "freq                                                                 1   \n",
       "\n",
       "                                                                                           long_description  \\\n",
       "count                                                                                                    18   \n",
       "unique                                                                                                   18   \n",
       "top     Time series data is ubiquitous. Whether it be stock market fluctuations, sensor data recording c...   \n",
       "freq                                                                                                      1   \n",
       "\n",
       "        provider  \\\n",
       "count         18   \n",
       "unique         1   \n",
       "top     DataCamp   \n",
       "freq          18   \n",
       "\n",
       "                                                                   url  \\\n",
       "count                                                               18   \n",
       "unique                                                              18   \n",
       "top     https://www.datacamp.com/courses/machine-learning-for-business   \n",
       "freq                                                                 1   \n",
       "\n",
       "           time language                     paths  \\\n",
       "count        18       18                        17   \n",
       "unique        2        1                        14   \n",
       "top     4 hours   Python  Data Skills for Business   \n",
       "freq         16       18                         2   \n",
       "\n",
       "                                prerequisites medium    type  \n",
       "count                                      16     18      18  \n",
       "unique                                     13      1       1  \n",
       "top     Supervised Learning with scikit-learn  video  course  \n",
       "freq                                        3     18      18  "
      ]
     },
     "execution_count": 6,
     "metadata": {},
     "output_type": "execute_result"
    }
   ],
   "source": [
    "df.describe()"
   ]
  },
  {
   "cell_type": "code",
   "execution_count": 7,
   "metadata": {},
   "outputs": [
    {
     "name": "stdout",
     "output_type": "stream",
     "text": [
      "<class 'pandas.core.frame.DataFrame'>\n",
      "RangeIndex: 18 entries, 0 to 17\n",
      "Data columns (total 11 columns):\n",
      " #   Column             Non-Null Count  Dtype \n",
      "---  ------             --------------  ----- \n",
      " 0   title              18 non-null     object\n",
      " 1   short_description  18 non-null     object\n",
      " 2   long_description   18 non-null     object\n",
      " 3   provider           18 non-null     object\n",
      " 4   url                18 non-null     object\n",
      " 5   time               18 non-null     object\n",
      " 6   language           18 non-null     object\n",
      " 7   paths              17 non-null     object\n",
      " 8   prerequisites      16 non-null     object\n",
      " 9   medium             18 non-null     object\n",
      " 10  type               18 non-null     object\n",
      "dtypes: object(11)\n",
      "memory usage: 1.7+ KB\n"
     ]
    }
   ],
   "source": [
    "df.info()"
   ]
  },
  {
   "cell_type": "markdown",
   "metadata": {},
   "source": [
    "## Cleaning and Wrangling"
   ]
  },
  {
   "cell_type": "markdown",
   "metadata": {},
   "source": [
    "## Sanitize columns"
   ]
  },
  {
   "cell_type": "code",
   "execution_count": 8,
   "metadata": {},
   "outputs": [],
   "source": [
    "df['prerequisites'].fillna(\"\", inplace=True)"
   ]
  },
  {
   "cell_type": "code",
   "execution_count": 9,
   "metadata": {},
   "outputs": [],
   "source": [
    "df['paths'].fillna(\"\", inplace=True)"
   ]
  },
  {
   "cell_type": "code",
   "execution_count": 10,
   "metadata": {},
   "outputs": [
    {
     "data": {
      "text/html": [
       "<div>\n",
       "<style scoped>\n",
       "    .dataframe tbody tr th:only-of-type {\n",
       "        vertical-align: middle;\n",
       "    }\n",
       "\n",
       "    .dataframe tbody tr th {\n",
       "        vertical-align: top;\n",
       "    }\n",
       "\n",
       "    .dataframe thead th {\n",
       "        text-align: right;\n",
       "    }\n",
       "</style>\n",
       "<table border=\"1\" class=\"dataframe\">\n",
       "  <thead>\n",
       "    <tr style=\"text-align: right;\">\n",
       "      <th></th>\n",
       "      <th>paths</th>\n",
       "      <th>prerequisites</th>\n",
       "    </tr>\n",
       "  </thead>\n",
       "  <tbody>\n",
       "    <tr>\n",
       "      <th>0</th>\n",
       "      <td>Machine Learning for Everyone,Big Data with PySpark,Machine Learning Scientist with Python</td>\n",
       "      <td>Introduction to PySpark,Statistical Thinking in Python (Part 1)</td>\n",
       "    </tr>\n",
       "    <tr>\n",
       "      <th>1</th>\n",
       "      <td>Machine Learning for Everyone,Machine Learning Scientist with Python</td>\n",
       "      <td>pandas Foundations,Supervised Learning with scikit-learn</td>\n",
       "    </tr>\n",
       "    <tr>\n",
       "      <th>2</th>\n",
       "      <td></td>\n",
       "      <td>Supervised Learning with scikit-learn</td>\n",
       "    </tr>\n",
       "    <tr>\n",
       "      <th>3</th>\n",
       "      <td>Data Science for Everyone,Machine Learning for Everyone,Data Scientist  with Python,Machine Lear...</td>\n",
       "      <td>Statistical Thinking in Python (Part 1)</td>\n",
       "    </tr>\n",
       "    <tr>\n",
       "      <th>4</th>\n",
       "      <td>Machine Learning for Everyone,Machine Learning Scientist with Python,Natural Language Processing...</td>\n",
       "      <td>Python Data Science Toolbox (Part 2)</td>\n",
       "    </tr>\n",
       "    <tr>\n",
       "      <th>5</th>\n",
       "      <td>Data Science for Everyone,Machine Learning for Everyone,Data Scientist  with Python,Machine Lear...</td>\n",
       "      <td>Supervised Learning with scikit-learn</td>\n",
       "    </tr>\n",
       "    <tr>\n",
       "      <th>6</th>\n",
       "      <td>Machine Learning for Everyone,Machine Learning Scientist with Python</td>\n",
       "      <td>Supervised Learning with scikit-learn,Case Study: School Budgeting with Machine Learning in Python</td>\n",
       "    </tr>\n",
       "    <tr>\n",
       "      <th>7</th>\n",
       "      <td>Data Skills for Business</td>\n",
       "      <td></td>\n",
       "    </tr>\n",
       "    <tr>\n",
       "      <th>8</th>\n",
       "      <td>Machine Learning for Everyone,Machine Learning Fundamentals with Python,Machine Learning Scienti...</td>\n",
       "      <td>Supervised Learning with scikit-learn</td>\n",
       "    </tr>\n",
       "    <tr>\n",
       "      <th>9</th>\n",
       "      <td>Machine Learning for Everyone,Machine Learning Scientist with Python,Time Series with Python</td>\n",
       "      <td>Manipulating Time Series Data in Python,Visualizing Time Series Data in Python,Supervised Learni...</td>\n",
       "    </tr>\n",
       "    <tr>\n",
       "      <th>10</th>\n",
       "      <td>Data Skills for Business</td>\n",
       "      <td></td>\n",
       "    </tr>\n",
       "    <tr>\n",
       "      <th>11</th>\n",
       "      <td>Deep Learning in Python</td>\n",
       "      <td>Supervised Learning with scikit-learn,Working with the Class System in Python</td>\n",
       "    </tr>\n",
       "    <tr>\n",
       "      <th>12</th>\n",
       "      <td>Machine Learning for Everyone,Image Processing with Python,Machine Learning Scientist with Python</td>\n",
       "      <td>Introduction to Deep Learning in Python</td>\n",
       "    </tr>\n",
       "    <tr>\n",
       "      <th>13</th>\n",
       "      <td>Natural Language Processing in Python</td>\n",
       "      <td>Introduction to Natural Language Processing in Python</td>\n",
       "    </tr>\n",
       "    <tr>\n",
       "      <th>14</th>\n",
       "      <td>Natural Language Processing in Python</td>\n",
       "      <td>Python Data Science Toolbox (Part 2)</td>\n",
       "    </tr>\n",
       "    <tr>\n",
       "      <th>15</th>\n",
       "      <td>Big Data with PySpark</td>\n",
       "      <td>Introduction to PySpark,Supervised Learning with scikit-learn</td>\n",
       "    </tr>\n",
       "    <tr>\n",
       "      <th>16</th>\n",
       "      <td>Marketing Analytics with Python</td>\n",
       "      <td>Data Manipulation with pandas,Supervised Learning with scikit-learn</td>\n",
       "    </tr>\n",
       "    <tr>\n",
       "      <th>17</th>\n",
       "      <td>Deep Learning for NLP in Python</td>\n",
       "      <td>Introduction to Natural Language Processing in Python,Advanced Deep Learning with Keras</td>\n",
       "    </tr>\n",
       "  </tbody>\n",
       "</table>\n",
       "</div>"
      ],
      "text/plain": [
       "                                                                                                  paths  \\\n",
       "0            Machine Learning for Everyone,Big Data with PySpark,Machine Learning Scientist with Python   \n",
       "1                                  Machine Learning for Everyone,Machine Learning Scientist with Python   \n",
       "2                                                                                                         \n",
       "3   Data Science for Everyone,Machine Learning for Everyone,Data Scientist  with Python,Machine Lear...   \n",
       "4   Machine Learning for Everyone,Machine Learning Scientist with Python,Natural Language Processing...   \n",
       "5   Data Science for Everyone,Machine Learning for Everyone,Data Scientist  with Python,Machine Lear...   \n",
       "6                                  Machine Learning for Everyone,Machine Learning Scientist with Python   \n",
       "7                                                                              Data Skills for Business   \n",
       "8   Machine Learning for Everyone,Machine Learning Fundamentals with Python,Machine Learning Scienti...   \n",
       "9          Machine Learning for Everyone,Machine Learning Scientist with Python,Time Series with Python   \n",
       "10                                                                             Data Skills for Business   \n",
       "11                                                                              Deep Learning in Python   \n",
       "12    Machine Learning for Everyone,Image Processing with Python,Machine Learning Scientist with Python   \n",
       "13                                                                Natural Language Processing in Python   \n",
       "14                                                                Natural Language Processing in Python   \n",
       "15                                                                                Big Data with PySpark   \n",
       "16                                                                      Marketing Analytics with Python   \n",
       "17                                                                      Deep Learning for NLP in Python   \n",
       "\n",
       "                                                                                          prerequisites  \n",
       "0                                       Introduction to PySpark,Statistical Thinking in Python (Part 1)  \n",
       "1                                              pandas Foundations,Supervised Learning with scikit-learn  \n",
       "2                                                                 Supervised Learning with scikit-learn  \n",
       "3                                                               Statistical Thinking in Python (Part 1)  \n",
       "4                                                                  Python Data Science Toolbox (Part 2)  \n",
       "5                                                                 Supervised Learning with scikit-learn  \n",
       "6    Supervised Learning with scikit-learn,Case Study: School Budgeting with Machine Learning in Python  \n",
       "7                                                                                                        \n",
       "8                                                                 Supervised Learning with scikit-learn  \n",
       "9   Manipulating Time Series Data in Python,Visualizing Time Series Data in Python,Supervised Learni...  \n",
       "10                                                                                                       \n",
       "11                        Supervised Learning with scikit-learn,Working with the Class System in Python  \n",
       "12                                                              Introduction to Deep Learning in Python  \n",
       "13                                                Introduction to Natural Language Processing in Python  \n",
       "14                                                                 Python Data Science Toolbox (Part 2)  \n",
       "15                                        Introduction to PySpark,Supervised Learning with scikit-learn  \n",
       "16                                  Data Manipulation with pandas,Supervised Learning with scikit-learn  \n",
       "17              Introduction to Natural Language Processing in Python,Advanced Deep Learning with Keras  "
      ]
     },
     "execution_count": 10,
     "metadata": {},
     "output_type": "execute_result"
    }
   ],
   "source": [
    "df[['paths', 'prerequisites']]"
   ]
  },
  {
   "cell_type": "markdown",
   "metadata": {},
   "source": [
    "## Get prerequisite count\n",
    "\n",
    "For now, because we don't have contextual info, we'll use the prerequisite count of a course as a proxy of its complexity. Once we have that, we can do a simple `pd.cut` to assign a categorical label(beginner, intermediate, advanced) to each course.\n",
    "\n",
    "**NOTE**: The process below will assign a complexity label to each course strictly based on the number of prerequisites each item has. This may or may not correspond to the actual complexity of a course, but for the sake of prototyping, we'll leave it be and come back once other parts of the pipeline are fleshed out."
   ]
  },
  {
   "cell_type": "code",
   "execution_count": 11,
   "metadata": {
    "scrolled": true
   },
   "outputs": [],
   "source": [
    "def get_preq_count(row):\n",
    "    if row == \"\":\n",
    "        return 0\n",
    "    return len(row.split(\",\"))"
   ]
  },
  {
   "cell_type": "code",
   "execution_count": 12,
   "metadata": {},
   "outputs": [],
   "source": [
    "df['prereq_count'] = df['prerequisites'].apply(get_preq_count)"
   ]
  },
  {
   "cell_type": "code",
   "execution_count": 13,
   "metadata": {},
   "outputs": [],
   "source": [
    "df['complexity'] = pd.cut(df['prereq_count'], 3, labels=['Beginner', 'Intermediate', 'Advanced'])"
   ]
  },
  {
   "cell_type": "code",
   "execution_count": 72,
   "metadata": {
    "scrolled": false
   },
   "outputs": [
    {
     "data": {
      "text/html": [
       "<div>\n",
       "<style scoped>\n",
       "    .dataframe tbody tr th:only-of-type {\n",
       "        vertical-align: middle;\n",
       "    }\n",
       "\n",
       "    .dataframe tbody tr th {\n",
       "        vertical-align: top;\n",
       "    }\n",
       "\n",
       "    .dataframe thead th {\n",
       "        text-align: right;\n",
       "    }\n",
       "</style>\n",
       "<table border=\"1\" class=\"dataframe\">\n",
       "  <thead>\n",
       "    <tr style=\"text-align: right;\">\n",
       "      <th></th>\n",
       "      <th>index</th>\n",
       "      <th>title</th>\n",
       "      <th>short_description</th>\n",
       "      <th>long_description</th>\n",
       "      <th>provider</th>\n",
       "      <th>url</th>\n",
       "      <th>time</th>\n",
       "      <th>language</th>\n",
       "      <th>paths</th>\n",
       "      <th>prerequisites</th>\n",
       "      <th>medium</th>\n",
       "      <th>type</th>\n",
       "      <th>prereq_count</th>\n",
       "      <th>complexity</th>\n",
       "      <th>descriptions</th>\n",
       "      <th>acc_features</th>\n",
       "    </tr>\n",
       "  </thead>\n",
       "  <tbody>\n",
       "    <tr>\n",
       "      <th>13</th>\n",
       "      <td>13</td>\n",
       "      <td>Advanced NLP with spaCy</td>\n",
       "      <td>Learn how to use spaCy to build advanced natural language understanding systems, using both rule...</td>\n",
       "      <td>If you're working with a lot of text, you'll eventually want to know more about it. For example,...</td>\n",
       "      <td>DataCamp</td>\n",
       "      <td>https://www.datacamp.com/courses/advanced-nlp-with-spacy</td>\n",
       "      <td>5 hours</td>\n",
       "      <td>Python</td>\n",
       "      <td>natural language processing in python</td>\n",
       "      <td>Introduction to Natural Language Processing in Python</td>\n",
       "      <td>video</td>\n",
       "      <td>course</td>\n",
       "      <td>1</td>\n",
       "      <td>Beginner</td>\n",
       "      <td>learn how to use spacy to build advanced natural language understanding systems, using both rule...</td>\n",
       "      <td>Advanced NLP with spaCy learn how to use spacy to build advanced natural language understanding ...</td>\n",
       "    </tr>\n",
       "    <tr>\n",
       "      <th>14</th>\n",
       "      <td>14</td>\n",
       "      <td>Sentiment Analysis in Python</td>\n",
       "      <td>Are customers thrilled with your products or is your service lacking? Learn how to perform an en...</td>\n",
       "      <td>Have you left a review to express how you feel about a product or a service? And do you have a h...</td>\n",
       "      <td>DataCamp</td>\n",
       "      <td>https://www.datacamp.com/courses/sentiment-analysis-in-python</td>\n",
       "      <td>4 hours</td>\n",
       "      <td>Python</td>\n",
       "      <td>natural language processing in python</td>\n",
       "      <td>Python Data Science Toolbox (Part 2)</td>\n",
       "      <td>video</td>\n",
       "      <td>course</td>\n",
       "      <td>1</td>\n",
       "      <td>Beginner</td>\n",
       "      <td>are customers thrilled with your products or is your service lacking? learn how to perform an en...</td>\n",
       "      <td>Sentiment Analysis in Python are customers thrilled with your products or is your service lackin...</td>\n",
       "    </tr>\n",
       "    <tr>\n",
       "      <th>15</th>\n",
       "      <td>15</td>\n",
       "      <td>Building Recommendation Engines in PySpark</td>\n",
       "      <td>Learn tools and techniques to leverage your own big data to facilitate positive experiences for ...</td>\n",
       "      <td>This course will show you how to build  recommendation engines using Alternating Least Squares i...</td>\n",
       "      <td>DataCamp</td>\n",
       "      <td>https://www.datacamp.com/courses/recommendation-engines-in-pyspark</td>\n",
       "      <td>4 hours</td>\n",
       "      <td>Python</td>\n",
       "      <td>big data with pyspark</td>\n",
       "      <td>Introduction to PySpark,Supervised Learning with scikit-learn</td>\n",
       "      <td>video</td>\n",
       "      <td>course</td>\n",
       "      <td>2</td>\n",
       "      <td>Intermediate</td>\n",
       "      <td>learn tools and techniques to leverage your own big data to facilitate positive experiences for ...</td>\n",
       "      <td>Building Recommendation Engines in PySpark learn tools and techniques to leverage your own big d...</td>\n",
       "    </tr>\n",
       "    <tr>\n",
       "      <th>16</th>\n",
       "      <td>16</td>\n",
       "      <td>Machine Learning for Marketing in Python</td>\n",
       "      <td>From customer lifetime value, predicting churn to segmentation - learn and implement Machine Lea...</td>\n",
       "      <td>The rise of machine learning (almost sounds like \"rise of the machines\"?) and applications of st...</td>\n",
       "      <td>DataCamp</td>\n",
       "      <td>https://www.datacamp.com/courses/machine-learning-for-marketing-in-python</td>\n",
       "      <td>4 hours</td>\n",
       "      <td>Python</td>\n",
       "      <td>marketing analytics with python</td>\n",
       "      <td>Data Manipulation with pandas,Supervised Learning with scikit-learn</td>\n",
       "      <td>video</td>\n",
       "      <td>course</td>\n",
       "      <td>2</td>\n",
       "      <td>Intermediate</td>\n",
       "      <td>from customer lifetime value, predicting churn to segmentation - learn and implement machine lea...</td>\n",
       "      <td>Machine Learning for Marketing in Python from customer lifetime value, predicting churn to segme...</td>\n",
       "    </tr>\n",
       "    <tr>\n",
       "      <th>17</th>\n",
       "      <td>17</td>\n",
       "      <td>Natural Language Generation in Python</td>\n",
       "      <td>Learn to generate language in Python using Deep Learning in Python.</td>\n",
       "      <td>Have you ever wondered how Gmail autocompletes your sentences, or, what powers the WhatsApp sugg...</td>\n",
       "      <td>DataCamp</td>\n",
       "      <td>https://www.datacamp.com/courses/natural-language-generation-in-python</td>\n",
       "      <td>4 hours</td>\n",
       "      <td>Python</td>\n",
       "      <td>deep learning for nlp in python</td>\n",
       "      <td>Introduction to Natural Language Processing in Python,Advanced Deep Learning with Keras</td>\n",
       "      <td>video</td>\n",
       "      <td>course</td>\n",
       "      <td>2</td>\n",
       "      <td>Intermediate</td>\n",
       "      <td>learn to generate language in python using deep learning in python. have you ever wondered how g...</td>\n",
       "      <td>Natural Language Generation in Python learn to generate language in python using deep learning i...</td>\n",
       "    </tr>\n",
       "  </tbody>\n",
       "</table>\n",
       "</div>"
      ],
      "text/plain": [
       "    index                                       title  \\\n",
       "13     13                     Advanced NLP with spaCy   \n",
       "14     14                Sentiment Analysis in Python   \n",
       "15     15  Building Recommendation Engines in PySpark   \n",
       "16     16    Machine Learning for Marketing in Python   \n",
       "17     17       Natural Language Generation in Python   \n",
       "\n",
       "                                                                                      short_description  \\\n",
       "13  Learn how to use spaCy to build advanced natural language understanding systems, using both rule...   \n",
       "14  Are customers thrilled with your products or is your service lacking? Learn how to perform an en...   \n",
       "15  Learn tools and techniques to leverage your own big data to facilitate positive experiences for ...   \n",
       "16  From customer lifetime value, predicting churn to segmentation - learn and implement Machine Lea...   \n",
       "17                                  Learn to generate language in Python using Deep Learning in Python.   \n",
       "\n",
       "                                                                                       long_description  \\\n",
       "13  If you're working with a lot of text, you'll eventually want to know more about it. For example,...   \n",
       "14  Have you left a review to express how you feel about a product or a service? And do you have a h...   \n",
       "15  This course will show you how to build  recommendation engines using Alternating Least Squares i...   \n",
       "16  The rise of machine learning (almost sounds like \"rise of the machines\"?) and applications of st...   \n",
       "17  Have you ever wondered how Gmail autocompletes your sentences, or, what powers the WhatsApp sugg...   \n",
       "\n",
       "    provider  \\\n",
       "13  DataCamp   \n",
       "14  DataCamp   \n",
       "15  DataCamp   \n",
       "16  DataCamp   \n",
       "17  DataCamp   \n",
       "\n",
       "                                                                          url  \\\n",
       "13                   https://www.datacamp.com/courses/advanced-nlp-with-spacy   \n",
       "14              https://www.datacamp.com/courses/sentiment-analysis-in-python   \n",
       "15         https://www.datacamp.com/courses/recommendation-engines-in-pyspark   \n",
       "16  https://www.datacamp.com/courses/machine-learning-for-marketing-in-python   \n",
       "17     https://www.datacamp.com/courses/natural-language-generation-in-python   \n",
       "\n",
       "       time language                                  paths  \\\n",
       "13  5 hours   Python  natural language processing in python   \n",
       "14  4 hours   Python  natural language processing in python   \n",
       "15  4 hours   Python                  big data with pyspark   \n",
       "16  4 hours   Python        marketing analytics with python   \n",
       "17  4 hours   Python        deep learning for nlp in python   \n",
       "\n",
       "                                                                              prerequisites  \\\n",
       "13                                    Introduction to Natural Language Processing in Python   \n",
       "14                                                     Python Data Science Toolbox (Part 2)   \n",
       "15                            Introduction to PySpark,Supervised Learning with scikit-learn   \n",
       "16                      Data Manipulation with pandas,Supervised Learning with scikit-learn   \n",
       "17  Introduction to Natural Language Processing in Python,Advanced Deep Learning with Keras   \n",
       "\n",
       "   medium    type  prereq_count    complexity  \\\n",
       "13  video  course             1      Beginner   \n",
       "14  video  course             1      Beginner   \n",
       "15  video  course             2  Intermediate   \n",
       "16  video  course             2  Intermediate   \n",
       "17  video  course             2  Intermediate   \n",
       "\n",
       "                                                                                           descriptions  \\\n",
       "13  learn how to use spacy to build advanced natural language understanding systems, using both rule...   \n",
       "14  are customers thrilled with your products or is your service lacking? learn how to perform an en...   \n",
       "15  learn tools and techniques to leverage your own big data to facilitate positive experiences for ...   \n",
       "16  from customer lifetime value, predicting churn to segmentation - learn and implement machine lea...   \n",
       "17  learn to generate language in python using deep learning in python. have you ever wondered how g...   \n",
       "\n",
       "                                                                                           acc_features  \n",
       "13  Advanced NLP with spaCy learn how to use spacy to build advanced natural language understanding ...  \n",
       "14  Sentiment Analysis in Python are customers thrilled with your products or is your service lackin...  \n",
       "15  Building Recommendation Engines in PySpark learn tools and techniques to leverage your own big d...  \n",
       "16  Machine Learning for Marketing in Python from customer lifetime value, predicting churn to segme...  \n",
       "17  Natural Language Generation in Python learn to generate language in python using deep learning i...  "
      ]
     },
     "execution_count": 72,
     "metadata": {},
     "output_type": "execute_result"
    }
   ],
   "source": [
    "df.tail()"
   ]
  },
  {
   "cell_type": "markdown",
   "metadata": {},
   "source": [
    "## Generate `description` feature"
   ]
  },
  {
   "cell_type": "code",
   "execution_count": 15,
   "metadata": {},
   "outputs": [],
   "source": [
    "assert all(df['short_description'].isnull()) == False\n",
    "assert all(df['long_description'].isnull()) == False"
   ]
  },
  {
   "cell_type": "code",
   "execution_count": 16,
   "metadata": {},
   "outputs": [],
   "source": [
    "df['descriptions'] = df['short_description'] + \" \" + df['long_description']"
   ]
  },
  {
   "cell_type": "code",
   "execution_count": 17,
   "metadata": {},
   "outputs": [
    {
     "data": {
      "text/plain": [
       "\"Learn how to make predictions with Apache Spark. Spark is a powerful, general purpose tool for working with Big Data. Spark transparently handles the distribution of compute tasks across a cluster. This means that operations are fast, but it also allows you to focus on the analysis rather than worry about technical details. In this course you'll learn how to get data into Spark and then delve into the three fundamental Spark Machine Learning algorithms: Linear Regression, Logistic Regression/Classifiers, and creating pipelines. Along the way you'll analyse a large dataset of flight delays and spam text messages. With this background you'll be ready to harness the power of Spark and apply it on your own Machine Learning projects!\""
      ]
     },
     "execution_count": 17,
     "metadata": {},
     "output_type": "execute_result"
    }
   ],
   "source": [
    "df['descriptions'][0]"
   ]
  },
  {
   "cell_type": "code",
   "execution_count": 18,
   "metadata": {},
   "outputs": [],
   "source": [
    "def to_lower(row):\n",
    "    return row.lower()"
   ]
  },
  {
   "cell_type": "code",
   "execution_count": 19,
   "metadata": {},
   "outputs": [],
   "source": [
    "df['descriptions'] = df['descriptions'].apply(to_lower)"
   ]
  },
  {
   "cell_type": "markdown",
   "metadata": {},
   "source": [
    "# Recommendations based on Course Description\n",
    "\n",
    "A simple recommendation system based on the short and long description blurbs"
   ]
  },
  {
   "cell_type": "code",
   "execution_count": 20,
   "metadata": {},
   "outputs": [],
   "source": [
    "tfidf = TfidfVectorizer(stop_words='english')"
   ]
  },
  {
   "cell_type": "code",
   "execution_count": 21,
   "metadata": {},
   "outputs": [],
   "source": [
    "matrix = tfidf.fit_transform(df['descriptions'])"
   ]
  },
  {
   "cell_type": "code",
   "execution_count": 22,
   "metadata": {},
   "outputs": [],
   "source": [
    "cosine_sim = cosine_similarity(matrix, matrix)"
   ]
  },
  {
   "cell_type": "code",
   "execution_count": 23,
   "metadata": {},
   "outputs": [],
   "source": [
    "title2id = pd.Series(df.index, index = df['title'])"
   ]
  },
  {
   "cell_type": "code",
   "execution_count": 24,
   "metadata": {},
   "outputs": [],
   "source": [
    "def recommend(title: str = None, measure:str = None, npreds:int = 3, tolower:bool = False):\n",
    "    if tolower:\n",
    "        title = title.lower()\n",
    "    idx = title2id[title]\n",
    "    score = list(enumerate(measure[idx]))\n",
    "    score = sorted(score, key = lambda x: x[1], reverse = True)\n",
    "    score = score[1:npreds+1]\n",
    "    idxs = [i[0] for i in score]\n",
    "    return df['title'].iloc[idxs]"
   ]
  },
  {
   "cell_type": "code",
   "execution_count": 25,
   "metadata": {},
   "outputs": [
    {
     "data": {
      "text/plain": [
       "10                               AI Fundamentals\n",
       "7                  Machine Learning for Business\n",
       "15    Building Recommendation Engines in PySpark\n",
       "Name: title, dtype: object"
      ]
     },
     "execution_count": 25,
     "metadata": {},
     "output_type": "execute_result"
    }
   ],
   "source": [
    "recommend('Machine Learning for Marketing in Python', cosine_sim)"
   ]
  },
  {
   "cell_type": "markdown",
   "metadata": {},
   "source": [
    "Clearly, as we can see above, just using the description blurbs is not giving us enough contextual information to generate meeaningful recommendations.\n",
    "\n",
    "## Combining multiple features into one blurb\n",
    "\n",
    "Let's combine multiple features(namely the `descriptions, paths` info and explore the recommendations from that"
   ]
  },
  {
   "cell_type": "code",
   "execution_count": 26,
   "metadata": {},
   "outputs": [],
   "source": [
    "features = ['descriptions', 'paths']"
   ]
  },
  {
   "cell_type": "code",
   "execution_count": 27,
   "metadata": {},
   "outputs": [],
   "source": [
    "for feature in features:\n",
    "    df[feature] = df[feature].apply(to_lower)"
   ]
  },
  {
   "cell_type": "code",
   "execution_count": 28,
   "metadata": {},
   "outputs": [],
   "source": [
    "def create_feature(x):\n",
    "    title = x['title']\n",
    "    descriptions = x['descriptions']\n",
    "    paths = x['paths']\n",
    "    return title + \" \" + descriptions + \" \" + paths"
   ]
  },
  {
   "cell_type": "code",
   "execution_count": 29,
   "metadata": {},
   "outputs": [],
   "source": [
    "df['acc_features'] = df.apply(create_feature, axis=1)"
   ]
  },
  {
   "cell_type": "code",
   "execution_count": 30,
   "metadata": {},
   "outputs": [],
   "source": [
    "count_vectorizer = CountVectorizer(stop_words='english')"
   ]
  },
  {
   "cell_type": "code",
   "execution_count": 31,
   "metadata": {},
   "outputs": [],
   "source": [
    "count_matrix = count_vectorizer.fit_transform(df['acc_features'])"
   ]
  },
  {
   "cell_type": "code",
   "execution_count": 32,
   "metadata": {},
   "outputs": [],
   "source": [
    "cosine_sim1 = cosine_similarity(count_matrix, count_matrix)"
   ]
  },
  {
   "cell_type": "code",
   "execution_count": 33,
   "metadata": {},
   "outputs": [
    {
     "data": {
      "text/plain": [
       "(18, 18)"
      ]
     },
     "execution_count": 33,
     "metadata": {},
     "output_type": "execute_result"
    }
   ],
   "source": [
    "cosine_sim1.shape"
   ]
  },
  {
   "cell_type": "code",
   "execution_count": 34,
   "metadata": {},
   "outputs": [],
   "source": [
    "df = df.reset_index()\n",
    "idxs = pd.Series(df.index, index = df['title'])"
   ]
  },
  {
   "cell_type": "code",
   "execution_count": 35,
   "metadata": {},
   "outputs": [
    {
     "data": {
      "text/plain": [
       "3                  Supervised Learning with scikit-learn\n",
       "1     Feature Engineering for Machine Learning in Python\n",
       "10                                       AI Fundamentals\n",
       "Name: title, dtype: object"
      ]
     },
     "execution_count": 35,
     "metadata": {},
     "output_type": "execute_result"
    }
   ],
   "source": [
    "recommend('Machine Learning for Marketing in Python', cosine_sim1)"
   ]
  },
  {
   "cell_type": "markdown",
   "metadata": {},
   "source": [
    "## Allowing search\n",
    "\n",
    "Thus far, we've only been able to get recommendations based on an input that's already present in our corpus. What if we wanted to be more generic and search instead by keywords rather than an existing entity?\n",
    "\n",
    "**NOTE**: Needs refinement, maybe custom word embeddings?"
   ]
  },
  {
   "cell_type": "code",
   "execution_count": 132,
   "metadata": {},
   "outputs": [],
   "source": [
    "nlp = spacy.load('en_core_web_md')"
   ]
  },
  {
   "cell_type": "code",
   "execution_count": 159,
   "metadata": {},
   "outputs": [],
   "source": [
    "def get_results(res:list):\n",
    "    ans = []\n",
    "    for item in res:\n",
    "        data = df.iloc[item]\n",
    "        title, url = data['title'], data['url']\n",
    "        ans.append([title, url])\n",
    "    return ans"
   ]
  },
  {
   "cell_type": "code",
   "execution_count": 160,
   "metadata": {},
   "outputs": [],
   "source": [
    "def search(query: str = None, npreds:int = 5):\n",
    "    doc1 = nlp(query)\n",
    "    similarities = {}\n",
    "    for idx, feature in enumerate(df['acc_features']):\n",
    "        doc2 = nlp(feature)\n",
    "        similarities[idx] = doc1.similarity(doc2)\n",
    "    \n",
    "    preds = sorted(similarities, key=similarities.get, reverse=True)[:npreds]\n",
    "    results = get_results(preds)\n",
    "    return results"
   ]
  },
  {
   "cell_type": "code",
   "execution_count": 168,
   "metadata": {},
   "outputs": [
    {
     "data": {
      "text/plain": [
       "[['Linear Classifiers in Python',\n",
       "  'https://www.datacamp.com/courses/linear-classifiers-in-python'],\n",
       " ['Advanced NLP with spaCy',\n",
       "  'https://www.datacamp.com/courses/advanced-nlp-with-spacy'],\n",
       " ['Natural Language Generation in Python',\n",
       "  'https://www.datacamp.com/courses/natural-language-generation-in-python'],\n",
       " ['Supervised Learning with scikit-learn',\n",
       "  'https://www.datacamp.com/courses/supervised-learning-with-scikit-learn'],\n",
       " ['Introduction to Natural Language Processing in Python',\n",
       "  'https://www.datacamp.com/courses/introduction-to-natural-language-processing-in-python']]"
      ]
     },
     "execution_count": 168,
     "metadata": {},
     "output_type": "execute_result"
    }
   ],
   "source": [
    "response = search(\"I want to learn Engineering\")\n",
    "response"
   ]
  },
  {
   "cell_type": "code",
   "execution_count": null,
   "metadata": {},
   "outputs": [],
   "source": []
  }
 ],
 "metadata": {
  "kernelspec": {
   "display_name": "Python 3",
   "language": "python",
   "name": "python3"
  },
  "language_info": {
   "codemirror_mode": {
    "name": "ipython",
    "version": 3
   },
   "file_extension": ".py",
   "mimetype": "text/x-python",
   "name": "python",
   "nbconvert_exporter": "python",
   "pygments_lexer": "ipython3",
   "version": "3.8.5"
  }
 },
 "nbformat": 4,
 "nbformat_minor": 4
}
